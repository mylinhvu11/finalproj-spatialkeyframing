{
 "cells": [
  {
   "cell_type": "code",
   "execution_count": 73,
   "metadata": {},
   "outputs": [],
   "source": [
    "import json\n",
    "data = json.load(open(\"original.gltf\"))"
   ]
  },
  {
   "cell_type": "code",
   "execution_count": 74,
   "metadata": {},
   "outputs": [],
   "source": [
    "def get_all_channel_data(i):\n",
    "    channel = data['animations'][0]['channels'][i]\n",
    "    sampler = data['animations'][0]['samplers'][channel['sampler']]\n",
    "    node = data['nodes'][channel['target']['node']]\n",
    "    _input = data['accessors'][sampler['input']]\n",
    "    _output = data['accessors'][sampler['output']]\n",
    "\n",
    "    return {\n",
    "        'node': node,\n",
    "        'input': _input,\n",
    "        'output': _output,\n",
    "        'sampler': sampler,\n",
    "        'channel': channel\n",
    "    }\n",
    "\n"
   ]
  },
  {
   "cell_type": "code",
   "execution_count": 82,
   "metadata": {},
   "outputs": [
    {
     "data": {
      "text/plain": [
       "{'Pelvis_L_08',\n",
       " 'Pelvis_R_013',\n",
       " 'Shoulder_L_019',\n",
       " 'Shoulder_R_034',\n",
       " 'Thigh_L_09',\n",
       " 'Thigh_R_014',\n",
       " 'UpperArm_L_020',\n",
       " 'UpperArm_R_035'}"
      ]
     },
     "execution_count": 82,
     "metadata": {},
     "output_type": "execute_result"
    }
   ],
   "source": [
    "set([get_all_channel_data(i)['node']['name'] for i in range(len(data['animations'][0]['channels']))])"
   ]
  },
  {
   "cell_type": "code",
   "execution_count": 83,
   "metadata": {},
   "outputs": [],
   "source": [
    "# delete all channels associated with a node name\n",
    "def delete_channels_by_name(name):\n",
    "    to_remove = []\n",
    "    for i in range(len(data['animations'][0]['channels'])):\n",
    "        if get_all_channel_data(i)['node']['name'] == name:\n",
    "            to_remove.append(i)\n",
    "\n",
    "    removed = 0\n",
    "    for i in to_remove:\n",
    "        try:\n",
    "            data['animations'][0]['channels'].pop(i + removed)\n",
    "        except:\n",
    "            pass"
   ]
  },
  {
   "cell_type": "code",
   "execution_count": 84,
   "metadata": {},
   "outputs": [],
   "source": [
    "for node in ['Calf_L_010',\n",
    " 'Calf_R_015',\n",
    " 'Foot_L_011',\n",
    " 'Foot_R_016',\n",
    " 'ForeArm_L_021',\n",
    " 'ForeArm_R_036',\n",
    " 'Hand_L_022',\n",
    " 'Hand_R_037',\n",
    " 'Head_06',\n",
    " 'Hips_05',\n",
    " 'Index1_L_023',\n",
    " 'Index1_R_038',\n",
    " 'Index2_L_024',\n",
    " 'Index2_R_039',\n",
    " 'Middle1_L_025',\n",
    " 'Middle1_R_040',\n",
    " 'Middle2_L_026',\n",
    " 'Middle2_R_041',\n",
    " 'Needles_07',\n",
    " 'Pinky1_L_027',\n",
    " 'Pinky1_R_042',\n",
    " 'Pinky2_L_028',\n",
    " 'Pinky2_R_043',\n",
    " 'Ring1_L_029',\n",
    " 'Ring1_R_044',\n",
    " 'Ring2_L_030',\n",
    " 'Ring2_R_045',\n",
    " 'Socks_L_012',\n",
    " 'Socks_R_017',\n",
    " 'Spine_049',\n",
    " 'Thumb1_L_031',\n",
    " 'Thumb1_R_046',\n",
    " 'Thumb2_L_032',\n",
    " 'Thumb2_R_047',\n",
    " 'Toe_L_00',\n",
    " 'Toe_R_018',\n",
    " 'Wrist_L_033',\n",
    " 'Wrist_R_048']:\n",
    "    delete_channels_by_name(node)"
   ]
  },
  {
   "cell_type": "code",
   "execution_count": 85,
   "metadata": {},
   "outputs": [],
   "source": [
    "# replace scene.gltf file with data\n",
    "with open('scene.gltf', 'w') as f:\n",
    "    json.dump(data, f)"
   ]
  },
  {
   "cell_type": "code",
   "execution_count": null,
   "metadata": {},
   "outputs": [],
   "source": []
  }
 ],
 "metadata": {
  "kernelspec": {
   "display_name": "Python 3",
   "language": "python",
   "name": "python3"
  },
  "language_info": {
   "codemirror_mode": {
    "name": "ipython",
    "version": 3
   },
   "file_extension": ".py",
   "mimetype": "text/x-python",
   "name": "python",
   "nbconvert_exporter": "python",
   "pygments_lexer": "ipython3",
   "version": "3.10.6"
  },
  "orig_nbformat": 4
 },
 "nbformat": 4,
 "nbformat_minor": 2
}
