{
 "cells": [
  {
   "cell_type": "code",
   "execution_count": 59,
   "metadata": {},
   "outputs": [],
   "source": [
    "import json\n",
    "data = json.load(open(\"scene.gltf\"))"
   ]
  },
  {
   "cell_type": "code",
   "execution_count": 61,
   "metadata": {},
   "outputs": [],
   "source": [
    "def get_all_channel_data(i):\n",
    "    channel = data['animations'][0]['channels'][i]\n",
    "    sampler = data['animations'][0]['samplers'][channel['sampler']]\n",
    "    node = data['nodes'][channel['target']['node']]\n",
    "    _input = data['accessors'][sampler['input']]\n",
    "    _output = data['accessors'][sampler['output']]\n",
    "\n",
    "    return {\n",
    "        'node': node,\n",
    "        'input': _input,\n",
    "        'output': _output,\n",
    "        'sampler': sampler,\n",
    "        'channel': channel\n",
    "    }\n",
    "\n"
   ]
  },
  {
   "cell_type": "code",
   "execution_count": 62,
   "metadata": {},
   "outputs": [
    {
     "data": {
      "text/plain": [
       "{'Calf_L_010',\n",
       " 'Calf_R_015',\n",
       " 'Foot_L_011',\n",
       " 'Foot_R_016',\n",
       " 'ForeArm_L_021',\n",
       " 'ForeArm_R_036',\n",
       " 'Hand_L_022',\n",
       " 'Hand_R_037',\n",
       " 'Head_06',\n",
       " 'Hips_05',\n",
       " 'Pelvis_L_08',\n",
       " 'Pelvis_R_013',\n",
       " 'Shoulder_L_019',\n",
       " 'Shoulder_R_034',\n",
       " 'Socks_L_012',\n",
       " 'Socks_R_017',\n",
       " 'Spine_049',\n",
       " 'Thigh_L_09',\n",
       " 'Thigh_R_014',\n",
       " 'UpperArm_L_020',\n",
       " 'UpperArm_R_035',\n",
       " 'Wrist_L_033',\n",
       " 'Wrist_R_048'}"
      ]
     },
     "execution_count": 62,
     "metadata": {},
     "output_type": "execute_result"
    }
   ],
   "source": [
    "set([get_all_channel_data(i)['node']['name'] for i in range(len(data['animations'][0]['channels']))])"
   ]
  },
  {
   "cell_type": "code",
   "execution_count": 45,
   "metadata": {},
   "outputs": [],
   "source": [
    "# delete all channels associated with a node name\n",
    "def delete_channels_by_name(name):\n",
    "    to_remove = []\n",
    "    for i in range(len(data['animations'][0]['channels'])):\n",
    "        if get_all_channel_data(i)['node']['name'] == name:\n",
    "            to_remove.append(i)\n",
    "\n",
    "    for i in to_remove:\n",
    "        data['animations'][0]['channels'].pop(i)"
   ]
  },
  {
   "cell_type": "code",
   "execution_count": 56,
   "metadata": {},
   "outputs": [],
   "source": [
    "for node in ['Toe_L_00',\n",
    " 'Toe_R_018']:\n",
    "    delete_channels_by_name(node)"
   ]
  },
  {
   "cell_type": "code",
   "execution_count": 58,
   "metadata": {},
   "outputs": [],
   "source": [
    "# replace scene.gltf file with data\n",
    "with open('scene.gltf', 'w') as f:\n",
    "    json.dump(data, f)"
   ]
  },
  {
   "cell_type": "code",
   "execution_count": null,
   "metadata": {},
   "outputs": [],
   "source": []
  }
 ],
 "metadata": {
  "kernelspec": {
   "display_name": "Python 3",
   "language": "python",
   "name": "python3"
  },
  "language_info": {
   "codemirror_mode": {
    "name": "ipython",
    "version": 3
   },
   "file_extension": ".py",
   "mimetype": "text/x-python",
   "name": "python",
   "nbconvert_exporter": "python",
   "pygments_lexer": "ipython3",
   "version": "3.10.6"
  },
  "orig_nbformat": 4
 },
 "nbformat": 4,
 "nbformat_minor": 2
}
